{
 "cells": [
  {
   "cell_type": "code",
   "execution_count": 1,
   "id": "1929bae5",
   "metadata": {},
   "outputs": [
    {
     "data": {
      "text/plain": [
       "True"
      ]
     },
     "execution_count": 1,
     "metadata": {},
     "output_type": "execute_result"
    }
   ],
   "source": [
    "from langgraph.graph import StateGraph,START,END\n",
    "from typing import TypedDict\n",
    "from langchain_groq import ChatGroq\n",
    "from dotenv import load_dotenv\n",
    "\n",
    "load_dotenv()"
   ]
  },
  {
   "cell_type": "code",
   "execution_count": 2,
   "id": "ca369b98",
   "metadata": {},
   "outputs": [],
   "source": [
    "\n",
    "llm = ChatGroq(\n",
    "    model=\"deepseek-r1-distill-llama-70b\",\n",
    "    temperature=0,\n",
    "    max_tokens=None,\n",
    "    reasoning_format=\"parsed\",\n",
    "    timeout=None,\n",
    "    max_retries=2,\n",
    "    # other params...\n",
    ")"
   ]
  },
  {
   "cell_type": "code",
   "execution_count": 13,
   "id": "cc8fdc02",
   "metadata": {},
   "outputs": [],
   "source": [
    "# define the state type\n",
    "\n",
    "class BlogsState(TypedDict):\n",
    "    title: str\n",
    "    outline: str\n",
    "    content: str\n",
    "    evaluation: str"
   ]
  },
  {
   "cell_type": "code",
   "execution_count": 14,
   "id": "4232f216",
   "metadata": {},
   "outputs": [],
   "source": [
    "# graph define \n",
    "\n",
    "graph = StateGraph(BlogsState)"
   ]
  },
  {
   "cell_type": "code",
   "execution_count": 15,
   "id": "2b63b245",
   "metadata": {},
   "outputs": [],
   "source": [
    "def create_outline(state: BlogsState) -> BlogsState:\n",
    "    messages = [\n",
    "        (\"system\", \"You are a helpful assistant that creates outlines for blog posts.\"),\n",
    "        (\"human\", f\"Create an outline for a blog post titled '{state['title']}'\"),\n",
    "    ]\n",
    "\n",
    "    ai_msg = llm.invoke(messages)\n",
    "\n",
    "    state['outline'] = ai_msg.content\n",
    "    \n",
    "    return state"
   ]
  },
  {
   "cell_type": "code",
   "execution_count": 16,
   "id": "10878ca2",
   "metadata": {},
   "outputs": [],
   "source": [
    "def write_content(state: BlogsState) -> BlogsState:\n",
    "    messages = [\n",
    "        (\"system\", \"You are a helpful assistant that writes blog content based on an outline.\"),\n",
    "        (\"human\", f\"Write a blog post based on the following outline: {state['outline']}\"),\n",
    "    ]\n",
    "\n",
    "    ai_msg = llm.invoke(messages)\n",
    "\n",
    "    state['content'] = ai_msg.content\n",
    "    \n",
    "    return state"
   ]
  },
  {
   "cell_type": "code",
   "execution_count": 17,
   "id": "b624cf8e",
   "metadata": {},
   "outputs": [],
   "source": [
    "def evaluate_content(state: BlogsState) -> BlogsState:\n",
    "    messages = [\n",
    "        (\"system\", \"You are a helpful assistant that evaluates blog content.\"),\n",
    "        (\"human\", f\"Evaluate the following blog content: {state['content']}\"),\n",
    "    ]\n",
    "\n",
    "    ai_msg = llm.invoke(messages)\n",
    "\n",
    "    state['evaluation'] = ai_msg.content\n",
    "    \n",
    "    return state"
   ]
  },
  {
   "cell_type": "code",
   "execution_count": 18,
   "id": "6b0cb17e",
   "metadata": {},
   "outputs": [],
   "source": [
    "# define nodes \n",
    "\n",
    "graph.add_node(\"create_outline\",create_outline)\n",
    "graph.add_node(\"write_content\",write_content)\n",
    "graph.add_node(\"evaluate_content\", evaluate_content)\n",
    "\n",
    "\n",
    "# define edges\n",
    "graph.add_edge(START,\"create_outline\")\n",
    "graph.add_edge(\"create_outline\",\"write_content\")\n",
    "graph.add_edge(\"write_content\",\"evaluate_content\")\n",
    "graph.add_edge(\"evaluate_content\",END)\n",
    "\n",
    "# create the workflow\n",
    "\n",
    "workflow = graph.compile()"
   ]
  },
  {
   "cell_type": "code",
   "execution_count": 19,
   "id": "25513edc",
   "metadata": {},
   "outputs": [
    {
     "data": {
      "image/png": "[encoded data removed]",
      "text/plain": [
       "<langgraph.graph.state.CompiledStateGraph object at 0x0000012557617740>"
      ]
     },
     "execution_count": 19,
     "metadata": {},
     "output_type": "execute_result"
    }
   ],
   "source": [
    "graph.compile()"
   ]
  },
  {
   "cell_type": "code",
   "execution_count": 20,
   "id": "a97ac886",
   "metadata": {},
   "outputs": [
    {
     "name": "stdout",
     "output_type": "stream",
     "text": [
      "{'title': 'Is women is safe in India?', 'outline': '**Blog Post Outline: \"Is Women Safe in India?\"**\\n\\n---\\n\\n**I. Introduction**\\n   - Highlight the relevance and importance of the topic.\\n   - Introduce India\\'s contradictions as a modern nation with traditional values.\\n   - State the purpose: to explore the complexities of women\\'s safety in India.\\n\\n**II. Current State of Women\\'s Safety in India**\\n   - Present statistics on crime rates against women (rape, domestic violence).\\n   - Discuss high-profile cases (e.g., Nirbhaya) and their societal impact.\\n   - Mention public and governmental responses to these issues.\\n\\n**III. Cultural and Societal Factors**\\n   - Explore the influence of patriarchy on attitudes and behaviors.\\n   - Address victim-blaming and its implications.\\n   - Discuss the role of education and economic independence in empowerment.\\n\\n**IV. Legal Frameworks and Challenges**\\n   - Outline key laws protecting women (Criminal Law Amendment Act, etc.).\\n   - Discuss enforcement challenges (corruption, awareness issues).\\n\\n**V. Infrastructure and Public Spaces**\\n   - Analyze the safety of urban and rural public spaces for women.\\n   - Mention initiatives like improved lighting and helplines.\\n   - Note inconsistencies in implementation.\\n\\n**VI. Education and Awareness**\\n   - Discuss the role of gender-sensitive education from a young age.\\n   - Examine media\\'s impact on perceptions of women\\'s safety.\\n\\n**VII. Grassroots Initiatives and Technology**\\n   - Highlight successful NGOs and campaigns supporting women\\'s safety.\\n   - Explore technological solutions (safety apps).\\n\\n**VIII. The Way Forward**\\n   - Recommend strengthening legal systems and education.\\n   - Emphasize the need for improved infrastructure.\\n   - Stress the importance of collective efforts from all sectors.\\n\\n**IX. Conclusion**\\n   - Summarize the complexity of women\\'s safety in India.\\n   - Express hope for future progress based on current initiatives.\\n\\n---\\n\\nThis outline provides a structured approach to discussing the multifaceted issue of women\\'s safety in India, ensuring a logical flow and comprehensive coverage of key aspects.', 'content': \"**Is Women Safe in India?**\\n\\n**Introduction**\\n\\nIn a nation where modernity and tradition coexist, India faces a critical question: Is women safe? This query is not just about statistics but delves into the heart of societal structures and cultural norms. As we explore this complex issue, we aim to uncover the multifaceted reality of women's safety in India, highlighting both challenges and progress.\\n\\n**Current State of Women's Safety**\\n\\nIndia has seen a rise in reported crimes against women, including rape and domestic violence. The Nirbhaya case in 2012 was a turning point, sparking widespread outrage and prompting legal reforms. Public protests and government responses, such as stricter laws, indicate a societal shift, yet implementation remains inconsistent.\\n\\n**Cultural and Societal Factors**\\n\\nPatriarchy deeply influences attitudes, often leading to victim-blaming. This mindset perpetuates inequality, but education and economic independence are empowering women, challenging these norms and fostering a more equitable society.\\n\\n**Legal Frameworks and Challenges**\\n\\nLaws like the Criminal Law Amendment Act aim to protect women, yet enforcement is hindered by corruption and lack of awareness. Strengthening these systems is crucial for justice and deterrence.\\n\\n**Infrastructure and Public Spaces**\\n\\nSafety in public spaces varies; urban areas may have better infrastructure, but rural areas often lag. Initiatives like improved lighting and helplines are positive steps, though inconsistent implementation remains a hurdle.\\n\\n**Education and Awareness**\\n\\nGender-sensitive education from a young age can reshape attitudes. Media's role is significant, influencing perceptions and promoting gender equality, essential for societal change.\\n\\n**Grassroots Initiatives and Technology**\\n\\nNGOs and campaigns, along with technological solutions like safety apps, are making a difference. These efforts highlight the potential of collective action in enhancing safety.\\n\\n**The Way Forward**\\n\\nTo ensure women's safety, legal systems must be strengthened, education prioritized, and infrastructure improved. Collective efforts from all sectors are vital for sustainable change.\\n\\n**Conclusion**\\n\\nWomen's safety in India is a complex issue, reflecting broader societal challenges. While progress is evident, continued efforts are needed. With hope and collective action, a safer future for women in India is achievable.\", 'evaluation': '**Evaluation of the Blog Post: \"Is Women Safe in India?\"**\\n\\n**Structure and Content:**\\nThe blog is well-organized, starting with an introduction that sets the context by highlighting the contrast between modernity and tradition in India. It effectively transitions through various sections, each addressing a different facet of women\\'s safety, from current statistics to legal frameworks and grassroots initiatives. The conclusion provides a hopeful outlook, emphasizing the need for collective action.\\n\\n**Strengths:**\\n1. **Comprehensive Approach:** The blog covers a wide range of topics, including cultural factors, legal reforms, infrastructure, education, and grassroots efforts, providing a balanced view of both challenges and progress.\\n2. **Relevant Examples:** The mention of the Nirbhaya case and the Criminal Law Amendment Act adds credibility and context to the discussion.\\n3. **Positive Tone:** The conclusion\\'s emphasis on hope and collective action is encouraging and motivational.\\n\\n**Areas for Improvement:**\\n1. **Depth and Examples:** While the blog touches on various factors, it could benefit from more specific examples, such as successful educational programs or case studies of effective initiatives, to illustrate points more concretely.\\n2. **Data and Statistics:** Incorporating recent data or studies would enhance the blog\\'s relevance and provide a more current perspective on the issue.\\n3. **Intersectionality:** Addressing how factors like caste and class intersect with gender could offer a more nuanced understanding of women\\'s safety in India.\\n4. **Engagement and Action:** Including personal stories or a call to action could make the content more engaging and empower readers to get involved.\\n\\n**SEO and Accessibility:**\\n- The title is clear and relevant, but incorporating keywords related to women\\'s safety in India could improve SEO.\\n- Internal links to other resources or articles would enhance reader experience and provide additional information.\\n\\n**Conclusion:**\\nThe blog is informative and well-structured, offering a balanced perspective on women\\'s safety in India. By adding more detailed examples, recent data, and exploring the complexities of intersectionality, the blog could become even more impactful. Enhancing engagement through personal stories and a call to action would further empower the audience. Overall, it is a solid foundation that could be strengthened with additional depth and resources.'}\n"
     ]
    }
   ],
   "source": [
    "# execute the graph\n",
    "\n",
    "initial_state = {'title': 'Is women is safe in India?'}\n",
    "final_state = workflow.invoke(initial_state)\n",
    "\n",
    "print(final_state)\n"
   ]
  },
  {
   "cell_type": "code",
   "execution_count": 21,
   "id": "43b05894",
   "metadata": {},
   "outputs": [
    {
     "name": "stdout",
     "output_type": "stream",
     "text": [
      "**Blog Post Outline: \"Is Women Safe in India?\"**\n",
      "\n",
      "---\n",
      "\n",
      "**I. Introduction**\n",
      "   - Highlight the relevance and importance of the topic.\n",
      "   - Introduce India's contradictions as a modern nation with traditional values.\n",
      "   - State the purpose: to explore the complexities of women's safety in India.\n",
      "\n",
      "**II. Current State of Women's Safety in India**\n",
      "   - Present statistics on crime rates against women (rape, domestic violence).\n",
      "   - Discuss high-profile cases (e.g., Nirbhaya) and their societal impact.\n",
      "   - Mention public and governmental responses to these issues.\n",
      "\n",
      "**III. Cultural and Societal Factors**\n",
      "   - Explore the influence of patriarchy on attitudes and behaviors.\n",
      "   - Address victim-blaming and its implications.\n",
      "   - Discuss the role of education and economic independence in empowerment.\n",
      "\n",
      "**IV. Legal Frameworks and Challenges**\n",
      "   - Outline key laws protecting women (Criminal Law Amendment Act, etc.).\n",
      "   - Discuss enforcement challenges (corruption, awareness issues).\n",
      "\n",
      "**V. Infrastructure and Public Spaces**\n",
      "   - Analyze the safety of urban and rural public spaces for women.\n",
      "   - Mention initiatives like improved lighting and helplines.\n",
      "   - Note inconsistencies in implementation.\n",
      "\n",
      "**VI. Education and Awareness**\n",
      "   - Discuss the role of gender-sensitive education from a young age.\n",
      "   - Examine media's impact on perceptions of women's safety.\n",
      "\n",
      "**VII. Grassroots Initiatives and Technology**\n",
      "   - Highlight successful NGOs and campaigns supporting women's safety.\n",
      "   - Explore technological solutions (safety apps).\n",
      "\n",
      "**VIII. The Way Forward**\n",
      "   - Recommend strengthening legal systems and education.\n",
      "   - Emphasize the need for improved infrastructure.\n",
      "   - Stress the importance of collective efforts from all sectors.\n",
      "\n",
      "**IX. Conclusion**\n",
      "   - Summarize the complexity of women's safety in India.\n",
      "   - Express hope for future progress based on current initiatives.\n",
      "\n",
      "---\n",
      "\n",
      "This outline provides a structured approach to discussing the multifaceted issue of women's safety in India, ensuring a logical flow and comprehensive coverage of key aspects.\n"
     ]
    }
   ],
   "source": [
    "print(final_state['outline'])"
   ]
  },
  {
   "cell_type": "code",
   "execution_count": 22,
   "id": "106bacb1",
   "metadata": {},
   "outputs": [
    {
     "name": "stdout",
     "output_type": "stream",
     "text": [
      "**Evaluation of the Blog Post: \"Is Women Safe in India?\"**\n",
      "\n",
      "**Structure and Content:**\n",
      "The blog is well-organized, starting with an introduction that sets the context by highlighting the contrast between modernity and tradition in India. It effectively transitions through various sections, each addressing a different facet of women's safety, from current statistics to legal frameworks and grassroots initiatives. The conclusion provides a hopeful outlook, emphasizing the need for collective action.\n",
      "\n",
      "**Strengths:**\n",
      "1. **Comprehensive Approach:** The blog covers a wide range of topics, including cultural factors, legal reforms, infrastructure, education, and grassroots efforts, providing a balanced view of both challenges and progress.\n",
      "2. **Relevant Examples:** The mention of the Nirbhaya case and the Criminal Law Amendment Act adds credibility and context to the discussion.\n",
      "3. **Positive Tone:** The conclusion's emphasis on hope and collective action is encouraging and motivational.\n",
      "\n",
      "**Areas for Improvement:**\n",
      "1. **Depth and Examples:** While the blog touches on various factors, it could benefit from more specific examples, such as successful educational programs or case studies of effective initiatives, to illustrate points more concretely.\n",
      "2. **Data and Statistics:** Incorporating recent data or studies would enhance the blog's relevance and provide a more current perspective on the issue.\n",
      "3. **Intersectionality:** Addressing how factors like caste and class intersect with gender could offer a more nuanced understanding of women's safety in India.\n",
      "4. **Engagement and Action:** Including personal stories or a call to action could make the content more engaging and empower readers to get involved.\n",
      "\n",
      "**SEO and Accessibility:**\n",
      "- The title is clear and relevant, but incorporating keywords related to women's safety in India could improve SEO.\n",
      "- Internal links to other resources or articles would enhance reader experience and provide additional information.\n",
      "\n",
      "**Conclusion:**\n",
      "The blog is informative and well-structured, offering a balanced perspective on women's safety in India. By adding more detailed examples, recent data, and exploring the complexities of intersectionality, the blog could become even more impactful. Enhancing engagement through personal stories and a call to action would further empower the audience. Overall, it is a solid foundation that could be strengthened with additional depth and resources.\n"
     ]
    }
   ],
   "source": [
    "print(final_state['evaluation'])"
   ]
  },
  {
   "cell_type": "code",
   "execution_count": null,
   "id": "29441bf9",
   "metadata": {},
   "outputs": [],
   "source": []
  }
 ],
 "metadata": {
  "kernelspec": {
   "display_name": "venv",
   "language": "python",
   "name": "python3"
  },
  "language_info": {
   "codemirror_mode": {
    "name": "ipython",
    "version": 3
   },
   "file_extension": ".py",
   "mimetype": "text/x-python",
   "name": "python",
   "nbconvert_exporter": "python",
   "pygments_lexer": "ipython3",
   "version": "3.12.2"
  }
 },
 "nbformat": 4,
 "nbformat_minor": 5
}
