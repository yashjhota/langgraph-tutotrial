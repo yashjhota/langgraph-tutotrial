{
 "cells": [
  {
   "cell_type": "code",
   "execution_count": 1,
   "id": "4cc47a01",
   "metadata": {},
   "outputs": [
    {
     "data": {
      "text/plain": [
       "True"
      ]
     },
     "execution_count": 1,
     "metadata": {},
     "output_type": "execute_result"
    }
   ],
   "source": [
    "from langgraph.graph import StateGraph,START,END\n",
    "from typing import TypedDict\n",
    "from langchain_groq import ChatGroq\n",
    "from dotenv import load_dotenv\n",
    "\n",
    "load_dotenv()"
   ]
  },
  {
   "cell_type": "code",
   "execution_count": 2,
   "id": "be30bca9",
   "metadata": {},
   "outputs": [],
   "source": [
    "import getpass\n",
    "import os\n",
    "\n",
    "if \"GROQ_API_KEY\" not in os.environ:\n",
    "    os.environ[\"GROQ_API_KEY\"] = getpass.getpass(\"Enter your Groq API key: \")"
   ]
  },
  {
   "cell_type": "code",
   "execution_count": 3,
   "id": "cd40e66e",
   "metadata": {},
   "outputs": [],
   "source": [
    "\n",
    "llm = ChatGroq(\n",
    "    model=\"deepseek-r1-distill-llama-70b\",\n",
    "    temperature=0,\n",
    "    max_tokens=None,\n",
    "    reasoning_format=\"parsed\",\n",
    "    timeout=None,\n",
    "    max_retries=2,\n",
    "    # other params...\n",
    ")"
   ]
  },
  {
   "cell_type": "code",
   "execution_count": 6,
   "id": "7ba5d3be",
   "metadata": {},
   "outputs": [],
   "source": [
    "# create a state type\n",
    "\n",
    "class SimpleLLMState(TypedDict):\n",
    "    \n",
    "    input_text: str\n",
    "    output_text: str"
   ]
  },
  {
   "cell_type": "code",
   "execution_count": 10,
   "id": "12159a7a",
   "metadata": {},
   "outputs": [],
   "source": [
    "def llm_qa(state: SimpleLLMState) -> SimpleLLMState:\n",
    "    \"\"\"\n",
    "    A simple LLM function that takes input text and returns output text.\n",
    "    \"\"\"\n",
    "    # Extract input text from the state \n",
    "    input_text = state['input_text']\n",
    "\n",
    "    # Form the prompt for the model\n",
    "    prompt = f\"Answer the following question: {input_text}\"\n",
    "\n",
    "    # ask the model to invoke\n",
    "\n",
    "    response = llm.invoke(prompt)\n",
    "\n",
    "    # Update the state with the model's response\n",
    "\n",
    "    state['output_text'] = response.content\n",
    "    \n",
    "    return state"
   ]
  },
  {
   "cell_type": "code",
   "execution_count": 11,
   "id": "8ef12f2b",
   "metadata": {},
   "outputs": [],
   "source": [
    "# create graph\n",
    "\n",
    "graph = StateGraph(SimpleLLMState)\n",
    "\n",
    "graph.add_node(\"input_text\", llm_qa)\n",
    "\n",
    "graph.add_edge(START, \"input_text\")\n",
    "graph.add_edge(\"input_text\", END)\n",
    "\n",
    "# compile the graph\n",
    "workflow = graph.compile()"
   ]
  },
  {
   "cell_type": "code",
   "execution_count": 13,
   "id": "c8487106",
   "metadata": {},
   "outputs": [
    {
     "name": "stdout",
     "output_type": "stream",
     "text": [
      "The capital of France is Paris.\n"
     ]
    }
   ],
   "source": [
    "# execute the graph\n",
    "\n",
    "initial_state = {'input_text': 'What is the capital of France?'}\n",
    "final_state = workflow.invoke(initial_state)\n",
    "\n",
    "print(final_state['output_text'])  "
   ]
  },
  {
   "cell_type": "code",
   "execution_count": null,
   "id": "28374751",
   "metadata": {},
   "outputs": [],
   "source": []
  }
 ],
 "metadata": {
  "kernelspec": {
   "display_name": "venv",
   "language": "python",
   "name": "python3"
  },
  "language_info": {
   "codemirror_mode": {
    "name": "ipython",
    "version": 3
   },
   "file_extension": ".py",
   "mimetype": "text/x-python",
   "name": "python",
   "nbconvert_exporter": "python",
   "pygments_lexer": "ipython3",
   "version": "3.12.2"
  }
 },
 "nbformat": 4,
 "nbformat_minor": 5
}
