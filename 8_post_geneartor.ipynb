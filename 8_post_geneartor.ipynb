{
 "cells": [
  {
   "cell_type": "code",
   "execution_count": 60,
   "id": "10c8d40d",
   "metadata": {},
   "outputs": [
    {
     "data": {
      "text/plain": [
       "True"
      ]
     },
     "execution_count": 60,
     "metadata": {},
     "output_type": "execute_result"
    }
   ],
   "source": [
    "from langgraph.graph import StateGraph,START,END\n",
    "from typing import TypedDict, Literal, Annotated\n",
    "from langchain_groq import ChatGroq\n",
    "from dotenv import load_dotenv\n",
    "from langchain_core.messages import SystemMessage, HumanMessage\n",
    "import operator\n",
    "\n",
    "load_dotenv()"
   ]
  },
  {
   "cell_type": "code",
   "execution_count": 61,
   "id": "843df14e",
   "metadata": {},
   "outputs": [],
   "source": [
    "generator_llm = ChatGroq(model=\"llama-3.3-70b-versatile\")\n",
    "evalutor_llm = ChatGroq(model=\"llama-3.3-70b-versatile\")\n",
    "optimizer_llm = ChatGroq(model=\"deepseek-r1-distill-llama-70b\")"
   ]
  },
  {
   "cell_type": "code",
   "execution_count": 62,
   "id": "51adb38b",
   "metadata": {},
   "outputs": [],
   "source": [
    "# state\n",
    "\n",
    "class TweetState(TypedDict):\n",
    "\n",
    "    topic: str\n",
    "    tweet: str\n",
    "    evaluation: Literal[\"good\", \"bad\"]\n",
    "    feedback: str\n",
    "    iteration: int\n",
    "    max_iterations: int\n",
    "\n",
    "    \n",
    "    tweet_history: Annotated[list[str], operator.add]\n",
    "    feedback_history: Annotated[list[str], operator.add]"
   ]
  },
  {
   "cell_type": "code",
   "execution_count": 63,
   "id": "51ae2614",
   "metadata": {},
   "outputs": [],
   "source": [
    "from pydantic import BaseModel, Field\n",
    "\n",
    "class TweetEvaluation(BaseModel):\n",
    "    evaluation: Literal[\"approved\", \"needs_improvement\"] = Field(..., description=\"Final evaluation result.\")\n",
    "    feedback: str = Field(..., description=\"feedback for the tweet.\")"
   ]
  },
  {
   "cell_type": "code",
   "execution_count": 64,
   "id": "906822ed",
   "metadata": {},
   "outputs": [],
   "source": [
    "structured_evaluator_llm =evalutor_llm.with_structured_output(TweetEvaluation)"
   ]
  },
  {
   "cell_type": "code",
   "execution_count": 65,
   "id": "06556ce6",
   "metadata": {},
   "outputs": [],
   "source": [
    "# grpah object \n",
    "\n",
    "graph = StateGraph(TweetState)"
   ]
  },
  {
   "cell_type": "code",
   "execution_count": 66,
   "id": "6cca9c57",
   "metadata": {},
   "outputs": [],
   "source": [
    "def generate_tweet(state: TweetState):\n",
    "\n",
    "    # prompt\n",
    "    messages = [\n",
    "        SystemMessage(content=\"You are a funny and clever Twitter/X influencer.\"),\n",
    "        HumanMessage(content=f\"\"\"\n",
    "Write a short, original, and hilarious tweet on the topic: \"{state['topic']}\".\n",
    "\n",
    "Rules:\n",
    "- Do NOT use question-answer format.\n",
    "- Max 280 characters.\n",
    "- Use observational humor, irony, sarcasm, or cultural references.\n",
    "- Think in meme logic, punchlines, or relatable takes.\n",
    "- Use simple, day to day english\n",
    "\"\"\")\n",
    "    ]\n",
    "\n",
    "    # send generator_llm\n",
    "    response = generator_llm.invoke(messages).content\n",
    "\n",
    "    # return response\n",
    "    return {'tweet': response, 'tweet_history': [response]}"
   ]
  },
  {
   "cell_type": "code",
   "execution_count": 67,
   "id": "f9cac622",
   "metadata": {},
   "outputs": [],
   "source": [
    "def evaluate_tweet(state: TweetState):\n",
    "    try:\n",
    "        # prompt\n",
    "        messages = [\n",
    "            SystemMessage(content=\"You are a ruthless, no-laugh-given Twitter critic. You MUST respond in JSON format.\"),\n",
    "            HumanMessage(content=f\"\"\"\n",
    "Evaluate this tweet: \"{state['tweet']}\"\n",
    "\n",
    "Criteria:\n",
    "1. Originality\n",
    "2. Humor\n",
    "3. Punchiness\n",
    "4. Virality Potential\n",
    "5. Format (not Q&A, under 280 chars)\n",
    "\n",
    "Return ONLY a JSON object with exactly these fields:\n",
    "{{\n",
    "    \"evaluation\": \"good\" or \"bad\",\n",
    "    \"feedback\": \"Your feedback as one paragraph\"\n",
    "}}\n",
    "\"\"\")\n",
    "        ]\n",
    "\n",
    "        response = structured_evaluator_llm.invoke(messages)\n",
    "        \n",
    "        # Handle potential None response\n",
    "        if not response:\n",
    "            return {\n",
    "                'evaluation': 'bad',\n",
    "                'feedback': 'Failed to evaluate tweet. Please try again.',\n",
    "                'feedback_history': ['Evaluation failed']\n",
    "            }\n",
    "\n",
    "        return {\n",
    "            'evaluation': response.evaluation,\n",
    "            'feedback': response.feedback,\n",
    "            'feedback_history': [response.feedback]\n",
    "        }\n",
    "        \n",
    "    except Exception as e:\n",
    "        print(f\"Evaluation error: {str(e)}\")\n",
    "        return {\n",
    "            'evaluation': 'bad',\n",
    "            'feedback': f'Error in evaluation: {str(e)}',\n",
    "            'feedback_history': ['Evaluation error occurred']\n",
    "        }"
   ]
  },
  {
   "cell_type": "code",
   "execution_count": 68,
   "id": "c1f7235c",
   "metadata": {},
   "outputs": [],
   "source": [
    "def optimize_tweet(state: TweetState):\n",
    "\n",
    "    messages = [\n",
    "        SystemMessage(content=\"You punch up tweets for virality and humor based on given feedback.\"),\n",
    "        HumanMessage(content=f\"\"\"\n",
    "Improve the tweet based on this feedback:\n",
    "\"{state['feedback']}\"\n",
    "\n",
    "Topic: \"{state['topic']}\"\n",
    "Original Tweet:\n",
    "{state['tweet']}\n",
    "\n",
    "Re-write it as a short, viral-worthy tweet. Avoid Q&A style and stay under 280 characters.\n",
    "\"\"\")\n",
    "    ]\n",
    "\n",
    "    response = optimizer_llm.invoke(messages).content\n",
    "    iteration = state['iteration'] + 1\n",
    "\n",
    "    return {'tweet': response, 'iteration': iteration, 'tweet_history': [response]}"
   ]
  },
  {
   "cell_type": "code",
   "execution_count": 69,
   "id": "3eb9f165",
   "metadata": {},
   "outputs": [],
   "source": [
    "def route_evaluation(state: TweetState):\n",
    "    # Fix the variable name to match state dictionary\n",
    "    if state['evaluation'] == 'good' or state['iteration'] >= state['max_iterations']:\n",
    "        return 'good'\n",
    "    else:\n",
    "        return 'bad'"
   ]
  },
  {
   "cell_type": "code",
   "execution_count": 70,
   "id": "16b85050",
   "metadata": {},
   "outputs": [
    {
     "data": {
      "image/png": "[encoded data removed]",
      "text/plain": [
       "<langgraph.graph.state.CompiledStateGraph object at 0x00000284F1CF6720>"
      ]
     },
     "execution_count": 70,
     "metadata": {},
     "output_type": "execute_result"
    }
   ],
   "source": [
    "graph = StateGraph(TweetState)\n",
    "\n",
    "graph.add_node('generate', generate_tweet)\n",
    "graph.add_node('evaluate', evaluate_tweet)\n",
    "graph.add_node('optimize', optimize_tweet)\n",
    "\n",
    "graph.add_edge(START, 'generate')\n",
    "graph.add_edge('generate', 'evaluate')\n",
    "\n",
    "graph.add_conditional_edges('evaluate', route_evaluation, {'good': END, 'bad': 'optimize'})\n",
    "graph.add_edge('optimize', 'evaluate')\n",
    "\n",
    "workflow = graph.compile()\n",
    "\n",
    "workflow\n"
   ]
  },
  {
   "cell_type": "code",
   "execution_count": 75,
   "id": "898420a9",
   "metadata": {},
   "outputs": [
    {
     "data": {
      "text/plain": [
       "'\\n\\n\"Indian Army: where mom\\'s discipline transforms into unstoppable swagger 💪🔥 #IndianArmy\"'"
      ]
     },
     "execution_count": 75,
     "metadata": {},
     "output_type": "execute_result"
    }
   ],
   "source": [
    "# Execute the workflow with an initial state\n",
    "initial_state = {\n",
    "    'topic': 'Indian Army',\n",
    "    'iteration': 1,\n",
    "    'max_iterations': 5}\n",
    "\n",
    "workflow.invoke(initial_state)[\"tweet\"]"
   ]
  },
  {
   "cell_type": "code",
   "execution_count": null,
   "id": "7754026f",
   "metadata": {},
   "outputs": [],
   "source": []
  }
 ],
 "metadata": {
  "kernelspec": {
   "display_name": "venv",
   "language": "python",
   "name": "python3"
  },
  "language_info": {
   "codemirror_mode": {
    "name": "ipython",
    "version": 3
   },
   "file_extension": ".py",
   "mimetype": "text/x-python",
   "name": "python",
   "nbconvert_exporter": "python",
   "pygments_lexer": "ipython3",
   "version": "3.12.2"
  }
 },
 "nbformat": 4,
 "nbformat_minor": 5
}
