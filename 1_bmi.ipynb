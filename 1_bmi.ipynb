{
 "cells": [
  {
   "cell_type": "code",
   "execution_count": 8,
   "id": "b7cdc440",
   "metadata": {},
   "outputs": [],
   "source": [
    "from langgraph.graph import StateGraph,START,END\n",
    "from typing import TypedDict"
   ]
  },
  {
   "cell_type": "code",
   "execution_count": 24,
   "id": "b47c1076",
   "metadata": {},
   "outputs": [],
   "source": [
    "# define state types\n",
    "class BMIState(TypedDict):\n",
    "    height: float\n",
    "    weight: float\n",
    "    bmi: float\n",
    "    category: str"
   ]
  },
  {
   "cell_type": "code",
   "execution_count": 25,
   "id": "c7daae77",
   "metadata": {},
   "outputs": [],
   "source": [
    "def calculate_bmi(state: BMIState) -> BMIState: # type hinting\n",
    "    \"\"\"Calculate BMI based on height and weight.\"\"\"\n",
    "    height_m = state['height'] / 100  # convert cm to m\n",
    "    bmi = state['weight'] / (height_m ** 2)\n",
    "    state['bmi'] = bmi\n",
    "    return state "
   ]
  },
  {
   "cell_type": "code",
   "execution_count": 26,
   "id": "e0286fbe",
   "metadata": {},
   "outputs": [],
   "source": [
    "def label_bmi(state: BMIState) -> BMIState:\n",
    "    \"\"\"Label the BMI category based on the calculated BMI.\"\"\"\n",
    "    if state['bmi'] < 18.5:\n",
    "        state['category'] = 'Underweight'\n",
    "    elif 18.5 <= state['bmi'] < 24.9:\n",
    "        state['category'] = 'Normal weight'\n",
    "    elif 25 <= state['bmi'] < 29.9:\n",
    "        state['category'] = 'Overweight'\n",
    "    else:\n",
    "        state['category'] = 'Obesity'\n",
    "    return state"
   ]
  },
  {
   "cell_type": "code",
   "execution_count": 27,
   "id": "857f3d82",
   "metadata": {},
   "outputs": [],
   "source": [
    "# define your graph\n",
    "graph = StateGraph(BMIState)\n",
    "\n",
    "# add nodes to the graph\n",
    "\n",
    "graph.add_node(\"caculate_bmi\", calculate_bmi)\n",
    "graph.add_node(\"label_bmi\",label_bmi)\n",
    "\n",
    "# add edge to the graph\n",
    "\n",
    "graph.add_edge(START, \"caculate_bmi\")\n",
    "graph.add_edge(\"caculate_bmi\", \"label_bmi\")\n",
    "graph.add_edge(\"label_bmi\", END)\n",
    "\n",
    "\n",
    "# compile the graph\n",
    "workflow = graph.compile()"
   ]
  },
  {
   "cell_type": "code",
   "execution_count": 29,
   "id": "add9a919",
   "metadata": {},
   "outputs": [
    {
     "name": "stdout",
     "output_type": "stream",
     "text": [
      "{'height': 173, 'weight': 75, 'bmi': 25.05930702662969, 'category': 'Overweight'}\n"
     ]
    }
   ],
   "source": [
    "# execute the graph\n",
    "\n",
    "initial_state = {'height':173,'weight':75}\n",
    "\n",
    "final_state = workflow.invoke(initial_state)\n",
    "\n",
    "print(final_state) "
   ]
  },
  {
   "cell_type": "code",
   "execution_count": 30,
   "id": "1617d039",
   "metadata": {},
   "outputs": [
    {
     "data": {
      "image/png": "[encoded data removed]",
      "text/plain": [
       "<IPython.core.display.Image object>"
      ]
     },
     "execution_count": 30,
     "metadata": {},
     "output_type": "execute_result"
    }
   ],
   "source": [
    "from IPython.display import Image\n",
    "Image(workflow.get_graph().draw_mermaid_png())"
   ]
  },
  {
   "cell_type": "code",
   "execution_count": null,
   "id": "4a70d32f",
   "metadata": {},
   "outputs": [],
   "source": []
  }
 ],
 "metadata": {
  "kernelspec": {
   "display_name": "venv",
   "language": "python",
   "name": "python3"
  },
  "language_info": {
   "codemirror_mode": {
    "name": "ipython",
    "version": 3
   },
   "file_extension": ".py",
   "mimetype": "text/x-python",
   "name": "python",
   "nbconvert_exporter": "python",
   "pygments_lexer": "ipython3",
   "version": "3.12.2"
  }
 },
 "nbformat": 4,
 "nbformat_minor": 5
}
