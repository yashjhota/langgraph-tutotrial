{
 "cells": [
  {
   "cell_type": "code",
   "execution_count": null,
   "id": "af3cfa04",
   "metadata": {},
   "outputs": [
    {
     "data": {
      "text/plain": [
       "True"
      ]
     },
     "execution_count": 1,
     "metadata": {},
     "output_type": "execute_result"
    }
   ],
   "source": [
    "from langgraph.graph import StateGraph,START,END\n",
    "from typing import TypedDict, Literal, Annotated\n",
    "from langchain_groq import ChatGroq\n",
    "from dotenv import load_dotenv\n",
    "from langgraph.checkpoint.memory import InMemorySaver  # persistent storage in ram\n",
    "\n",
    "load_dotenv()"
   ]
  },
  {
   "cell_type": "code",
   "execution_count": 2,
   "id": "5685d64c",
   "metadata": {},
   "outputs": [],
   "source": [
    "model = ChatGroq(model=\"deepseek-r1-distill-llama-70b\")"
   ]
  },
  {
   "cell_type": "code",
   "execution_count": 3,
   "id": "68ef3398",
   "metadata": {},
   "outputs": [],
   "source": [
    "class JokeState(TypedDict):\n",
    "    joke: str\n",
    "    topic: str\n",
    "    explanation: str"
   ]
  },
  {
   "cell_type": "code",
   "execution_count": 4,
   "id": "fff8f70b",
   "metadata": {},
   "outputs": [],
   "source": [
    "def generate_joke(state: JokeState) -> str:\n",
    "\n",
    "    prompt = f\"Generate a joke about {state['topic']}.\"\n",
    "    response = model.invoke(prompt).content\n",
    "    return {\"joke\": response}"
   ]
  },
  {
   "cell_type": "code",
   "execution_count": 5,
   "id": "e9c1745d",
   "metadata": {},
   "outputs": [],
   "source": [
    "def generate_explanation(state: JokeState) -> str:\n",
    "\n",
    "    prompt = f\"Explain the joke: {state['joke']}.\"\n",
    "    response = model.invoke(prompt).content\n",
    "    return {\"explanation\": response}"
   ]
  },
  {
   "cell_type": "code",
   "execution_count": 6,
   "id": "98f7d708",
   "metadata": {},
   "outputs": [],
   "source": [
    "graph = StateGraph(JokeState) \n",
    "\n",
    "graph.add_node(\"generate_joke\",generate_joke)\n",
    "graph.add_node(\"generate_explanation\",generate_explanation)\n",
    "\n",
    "graph.add_edge(START,\"generate_joke\")\n",
    "graph.add_edge(\"generate_joke\",\"generate_explanation\")\n",
    "graph.add_edge(\"generate_explanation\",END)\n",
    "\n",
    "checkpoint = InMemorySaver()\n",
    "\n",
    "workflow = graph.compile(checkpointer=checkpoint)\n",
    "    "
   ]
  },
  {
   "cell_type": "code",
   "execution_count": 7,
   "id": "8dc413ac",
   "metadata": {},
   "outputs": [
    {
     "data": {
      "image/png": "[encoded data removed]",
      "text/plain": [
       "<langgraph.graph.state.CompiledStateGraph object at 0x00000195F87BD7C0>"
      ]
     },
     "execution_count": 7,
     "metadata": {},
     "output_type": "execute_result"
    }
   ],
   "source": [
    "workflow"
   ]
  },
  {
   "cell_type": "code",
   "execution_count": 8,
   "id": "5c1f3669",
   "metadata": {},
   "outputs": [
    {
     "data": {
      "text/plain": [
       "{'joke': \"<think>\\nAlright, the user has asked me to generate a joke about the Indian Army. I need to make sure the joke is respectful and not offensive.\\n\\nFirst, I should think about the Indian Army's values and symbols. The lion is a strong symbol, often associated with bravery.\\n\\nMaybe I can play on the idea of bravery and something that lions do. How about a lion seeing a soldier and feeling nervous?\\n\\nI can structure it as a question and answer to make it a classic joke format. Let me put that together.\\n\\nI should keep it simple and clear, ensuring it's appropriate for all audiences. That should work well.\\n</think>\\n\\nSure! Here's a light-hearted joke:\\n\\nWhy did the lion feel nervous when it saw an Indian Army soldier?  \\nBecause it knew the soldier was the *real* king of the jungle! 😄\",\n",
       " 'topic': 'Indian Army',\n",
       " 'explanation': '<think>'}"
      ]
     },
     "execution_count": 8,
     "metadata": {},
     "output_type": "execute_result"
    }
   ],
   "source": [
    "# Execute the workflow with an initial state\n",
    "\n",
    "initial_state = {'topic': 'Indian Army'}\n",
    "\n",
    "config = {\"configurable\": {\"thread_id\":\"1\"}}\n",
    "workflow.invoke(initial_state, config=config)"
   ]
  },
  {
   "cell_type": "code",
   "execution_count": 9,
   "id": "ede3dbad",
   "metadata": {},
   "outputs": [
    {
     "data": {
      "text/plain": [
       "StateSnapshot(values={'joke': \"<think>\\nAlright, the user has asked me to generate a joke about the Indian Army. I need to make sure the joke is respectful and not offensive.\\n\\nFirst, I should think about the Indian Army's values and symbols. The lion is a strong symbol, often associated with bravery.\\n\\nMaybe I can play on the idea of bravery and something that lions do. How about a lion seeing a soldier and feeling nervous?\\n\\nI can structure it as a question and answer to make it a classic joke format. Let me put that together.\\n\\nI should keep it simple and clear, ensuring it's appropriate for all audiences. That should work well.\\n</think>\\n\\nSure! Here's a light-hearted joke:\\n\\nWhy did the lion feel nervous when it saw an Indian Army soldier?  \\nBecause it knew the soldier was the *real* king of the jungle! 😄\", 'topic': 'Indian Army', 'explanation': '<think>'}, next=(), config={'configurable': {'thread_id': '1', 'checkpoint_ns': '', 'checkpoint_id': '1f0887ac-0480-60ac-8002-40384e9d0c5c'}}, metadata={'source': 'loop', 'step': 2, 'parents': {}}, created_at='2025-09-03T04:02:04.181726+00:00', parent_config={'configurable': {'thread_id': '1', 'checkpoint_ns': '', 'checkpoint_id': '1f0887ac-0317-659c-8001-d76bf53b3293'}}, tasks=(), interrupts=())"
      ]
     },
     "execution_count": 9,
     "metadata": {},
     "output_type": "execute_result"
    }
   ],
   "source": [
    "workflow.get_state(config)"
   ]
  },
  {
   "cell_type": "markdown",
   "id": "0633fe4f",
   "metadata": {},
   "source": [
    "## Intermediate values"
   ]
  },
  {
   "cell_type": "code",
   "execution_count": 10,
   "id": "a84b9c0c",
   "metadata": {},
   "outputs": [
    {
     "data": {
      "text/plain": [
       "[StateSnapshot(values={'joke': \"<think>\\nAlright, the user has asked me to generate a joke about the Indian Army. I need to make sure the joke is respectful and not offensive.\\n\\nFirst, I should think about the Indian Army's values and symbols. The lion is a strong symbol, often associated with bravery.\\n\\nMaybe I can play on the idea of bravery and something that lions do. How about a lion seeing a soldier and feeling nervous?\\n\\nI can structure it as a question and answer to make it a classic joke format. Let me put that together.\\n\\nI should keep it simple and clear, ensuring it's appropriate for all audiences. That should work well.\\n</think>\\n\\nSure! Here's a light-hearted joke:\\n\\nWhy did the lion feel nervous when it saw an Indian Army soldier?  \\nBecause it knew the soldier was the *real* king of the jungle! 😄\", 'topic': 'Indian Army', 'explanation': '<think>'}, next=(), config={'configurable': {'thread_id': '1', 'checkpoint_ns': '', 'checkpoint_id': '1f0887ac-0480-60ac-8002-40384e9d0c5c'}}, metadata={'source': 'loop', 'step': 2, 'parents': {}}, created_at='2025-09-03T04:02:04.181726+00:00', parent_config={'configurable': {'thread_id': '1', 'checkpoint_ns': '', 'checkpoint_id': '1f0887ac-0317-659c-8001-d76bf53b3293'}}, tasks=(), interrupts=()),\n",
       " StateSnapshot(values={'joke': \"<think>\\nAlright, the user has asked me to generate a joke about the Indian Army. I need to make sure the joke is respectful and not offensive.\\n\\nFirst, I should think about the Indian Army's values and symbols. The lion is a strong symbol, often associated with bravery.\\n\\nMaybe I can play on the idea of bravery and something that lions do. How about a lion seeing a soldier and feeling nervous?\\n\\nI can structure it as a question and answer to make it a classic joke format. Let me put that together.\\n\\nI should keep it simple and clear, ensuring it's appropriate for all audiences. That should work well.\\n</think>\\n\\nSure! Here's a light-hearted joke:\\n\\nWhy did the lion feel nervous when it saw an Indian Army soldier?  \\nBecause it knew the soldier was the *real* king of the jungle! 😄\", 'topic': 'Indian Army'}, next=('generate_explanation',), config={'configurable': {'thread_id': '1', 'checkpoint_ns': '', 'checkpoint_id': '1f0887ac-0317-659c-8001-d76bf53b3293'}}, metadata={'source': 'loop', 'step': 1, 'parents': {}}, created_at='2025-09-03T04:02:04.033986+00:00', parent_config={'configurable': {'thread_id': '1', 'checkpoint_ns': '', 'checkpoint_id': '1f0887ab-f79a-62d9-8000-0e363ee0efde'}}, tasks=(PregelTask(id='dd84db95-0b7b-d960-0df8-a1dca5ab3cf5', name='generate_explanation', path=('__pregel_pull', 'generate_explanation'), error=None, interrupts=(), state=None, result={'explanation': '<think>'}),), interrupts=()),\n",
       " StateSnapshot(values={'topic': 'Indian Army'}, next=('generate_joke',), config={'configurable': {'thread_id': '1', 'checkpoint_ns': '', 'checkpoint_id': '1f0887ab-f79a-62d9-8000-0e363ee0efde'}}, metadata={'source': 'loop', 'step': 0, 'parents': {}}, created_at='2025-09-03T04:02:02.829282+00:00', parent_config={'configurable': {'thread_id': '1', 'checkpoint_ns': '', 'checkpoint_id': '1f0887ab-f797-68aa-bfff-a0fa8bf3e6f0'}}, tasks=(PregelTask(id='45f476d7-1165-a2bd-8af0-e299f30cc099', name='generate_joke', path=('__pregel_pull', 'generate_joke'), error=None, interrupts=(), state=None, result={'joke': \"<think>\\nAlright, the user has asked me to generate a joke about the Indian Army. I need to make sure the joke is respectful and not offensive.\\n\\nFirst, I should think about the Indian Army's values and symbols. The lion is a strong symbol, often associated with bravery.\\n\\nMaybe I can play on the idea of bravery and something that lions do. How about a lion seeing a soldier and feeling nervous?\\n\\nI can structure it as a question and answer to make it a classic joke format. Let me put that together.\\n\\nI should keep it simple and clear, ensuring it's appropriate for all audiences. That should work well.\\n</think>\\n\\nSure! Here's a light-hearted joke:\\n\\nWhy did the lion feel nervous when it saw an Indian Army soldier?  \\nBecause it knew the soldier was the *real* king of the jungle! 😄\"}),), interrupts=()),\n",
       " StateSnapshot(values={}, next=('__start__',), config={'configurable': {'thread_id': '1', 'checkpoint_ns': '', 'checkpoint_id': '1f0887ab-f797-68aa-bfff-a0fa8bf3e6f0'}}, metadata={'source': 'input', 'step': -1, 'parents': {}}, created_at='2025-09-03T04:02:02.828202+00:00', parent_config=None, tasks=(PregelTask(id='cf179ec0-9010-34fd-a5c5-2660b985eef9', name='__start__', path=('__pregel_pull', '__start__'), error=None, interrupts=(), state=None, result={'topic': 'Indian Army'}),), interrupts=())]"
      ]
     },
     "execution_count": 10,
     "metadata": {},
     "output_type": "execute_result"
    }
   ],
   "source": [
    "list(workflow.get_state_history(config))"
   ]
  },
  {
   "cell_type": "code",
   "execution_count": 11,
   "id": "148a479f",
   "metadata": {},
   "outputs": [
    {
     "data": {
      "text/plain": [
       "{'joke': '<think>\\nOkay, so I need to come up with a pasta joke. Hmm, where do I start? Well, pasta has a lot of different types, like spaghetti, fettuccine, penne, and so on. Maybe I can play with the names or some characteristic of pasta.\\n\\nLet me think about common joke structures. Maybe a pun? Puns are great for jokes because they play on words. So, I should think of a word related to pasta and see if it has a double meaning.\\n\\nWait, \"penne\" sounds a bit like \"pen.\" That could work. So, if I can make a joke where penne is confused with a pen. How would that go? Maybe something like, \"Why did the penne go to the party?\" Because it heard it was a \"pen-neat\" event. Wait, that\\'s kind of forced.\\n\\nAlternatively, \"Why did the penne go to school?\" To get more \"saucy\" knowledge. Hmm, that\\'s not bad. Sauce is definitely related to pasta, so that could work.\\n\\nOr maybe \"Why don\\'t skeletons eat pasta?\" Because they don\\'t have the \"guts\" for it. But that\\'s more of a skeleton joke than a pasta joke. I need something more pasta-specific.\\n\\nWait, going back to the penne idea. \"Why did the penne go to the doctor?\" Because it was feeling a little \"drained.\" That\\'s a play on the word drained, as in draining pasta water. That\\'s pretty good.\\n\\nOr maybe \"Why did the spaghetti refuse to get married?\" Because it was afraid of getting tangled up in a relationship. That\\'s a classic, but I think that\\'s been done before.\\n\\nAnother angle: pasta shapes. Like, why did the fusilli go to therapy? Because it was feeling twisted. That\\'s a bit of a stretch, but it could work.\\n\\nWait, the user\\'s example was about penne going to school to get saucy knowledge. That\\'s clever. Maybe I can come up with something similar. Let me think of other pasta types. Farfalle is like bow-tie pasta. Maybe a joke about dressing up?\\n\\n\"Why did the farfalle go to the party?\" Because it was a bow-tie event. That\\'s a bit of a stretch, but it\\'s a pun on bow-tie.\\n\\nOr maybe \"Why did the lasagna go to therapy?\" Because it had too many layers. That\\'s a good one, playing on layers of pasta and emotional layers.\\n\\nBut the user\\'s example was about penne and sauce, which is clever. Maybe I can think of another sauce-related pun. Like, \"Why did the marinara go to the party?\" Because it was a saucy event. But that\\'s similar to the penne joke.\\n\\nAlternatively, \"Why don\\'t eggs tell jokes about pasta?\" Because they\\'d crack up the sauce. That\\'s a bit forced.\\n\\nWait, maybe \"Why did the spaghetti get invited to all the parties?\" Because it\\'s always so saucy. That\\'s similar to the penne joke but uses spaghetti instead.\\n\\nI think the key is to find a pasta type that sounds like another word and connect it with a pun related to pasta characteristics, like sauce, being twisted, layers, etc.\\n\\nAnother thought: \"Why did the macaroni go to the gym?\" To get some elbow room. That\\'s a play on elbow macaroni. It\\'s a bit of a stretch, but it could work.\\n\\nOr \"Why did the fettuccine go to the beauty parlor?\" To get a pasta-bility makeover. That\\'s a bit too forced.\\n\\nI think the best approach is to stick with penne and sauce. Maybe tweak the user\\'s joke a bit. \"Why did the penne go to school? To get more saucy knowledge!\" That\\'s catchy and makes sense.\\n\\nAlternatively, \"Why did the penne go to the party? Because it was a saucy event!\" That\\'s similar but a bit different context.\\n\\nI think the user\\'s version is better because it\\'s about school and knowledge, which ties in well with learning and sauce, which is a key part of pasta dishes.\\n\\nSo, to sum up, the joke would be: Why did the penne go to school? To get more saucy knowledge! It\\'s a pun on \"saucy\" relating to both the sauce on pasta and the idea of gaining knowledge.\\n</think>\\n\\nWhy did the penne go to school?  \\nTo get more saucy knowledge!',\n",
       " 'topic': 'Pasta',\n",
       " 'explanation': '\\n\\nThe joke plays on the word \"saucy,\" which has a double meaning. In the context of pasta, \"saucy\" refers to the sauce served with penne, a type of pasta. Additionally, \"saucy\" can mean something a bit cheeky or playful, which ties into the idea of gaining knowledge in a fun way. So, the penne goes to school to learn more, making the joke a clever pun on the word \"saucy.\"'}"
      ]
     },
     "execution_count": 11,
     "metadata": {},
     "output_type": "execute_result"
    }
   ],
   "source": [
    "initial_state = {\n",
    "    'topic': 'Pasta'}\n",
    "\n",
    "config1 = {\"configurable\": {\"thread_id\":\"2\"}}\n",
    "workflow.invoke(initial_state, config=config1)"
   ]
  },
  {
   "cell_type": "code",
   "execution_count": null,
   "id": "564aaa20",
   "metadata": {},
   "outputs": [],
   "source": []
  }
 ],
 "metadata": {
  "kernelspec": {
   "display_name": "venv",
   "language": "python",
   "name": "python3"
  },
  "language_info": {
   "codemirror_mode": {
    "name": "ipython",
    "version": 3
   },
   "file_extension": ".py",
   "mimetype": "text/x-python",
   "name": "python",
   "nbconvert_exporter": "python",
   "pygments_lexer": "ipython3",
   "version": "3.12.2"
  }
 },
 "nbformat": 4,
 "nbformat_minor": 5
}
