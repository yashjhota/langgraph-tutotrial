{
 "cells": [
  {
   "cell_type": "code",
   "execution_count": 1,
   "id": "af3cfa04",
   "metadata": {},
   "outputs": [
    {
     "data": {
      "text/plain": [
       "True"
      ]
     },
     "execution_count": 1,
     "metadata": {},
     "output_type": "execute_result"
    }
   ],
   "source": [
    "from langgraph.graph import StateGraph,START,END\n",
    "from typing import TypedDict, Literal, Annotated\n",
    "from langchain_groq import ChatGroq\n",
    "from dotenv import load_dotenv\n",
    "from langgraph.checkpoint.memory import InMemorySaver\n",
    "\n",
    "load_dotenv()"
   ]
  },
  {
   "cell_type": "code",
   "execution_count": 2,
   "id": "5685d64c",
   "metadata": {},
   "outputs": [],
   "source": [
    "model = ChatGroq(model=\"deepseek-r1-distill-llama-70b\")"
   ]
  },
  {
   "cell_type": "code",
   "execution_count": 3,
   "id": "68ef3398",
   "metadata": {},
   "outputs": [],
   "source": [
    "class JokeState(TypedDict):\n",
    "    joke: str\n",
    "    topic: str\n",
    "    explanation: str"
   ]
  },
  {
   "cell_type": "code",
   "execution_count": 6,
   "id": "fff8f70b",
   "metadata": {},
   "outputs": [],
   "source": [
    "def generate_joke(state: JokeState) -> str:\n",
    "\n",
    "    prompt = f\"Generate a joke about {state['topic']}.\"\n",
    "    response = model.invoke(prompt).content\n",
    "    return {\"joke\": response}"
   ]
  },
  {
   "cell_type": "code",
   "execution_count": 7,
   "id": "e9c1745d",
   "metadata": {},
   "outputs": [],
   "source": [
    "def generate_explanation(state: JokeState) -> str:\n",
    "\n",
    "    prompt = f\"Explain the joke: {state['joke']}.\"\n",
    "    response = model.invoke(prompt).content\n",
    "    return {\"explanation\": response}"
   ]
  },
  {
   "cell_type": "code",
   "execution_count": 13,
   "id": "98f7d708",
   "metadata": {},
   "outputs": [],
   "source": [
    "graph = StateGraph(JokeState) \n",
    "\n",
    "graph.add_node(\"generate_joke\",generate_joke)\n",
    "graph.add_node(\"generate_explanation\",generate_explanation)\n",
    "\n",
    "graph.add_edge(START,\"generate_joke\")\n",
    "graph.add_edge(\"generate_joke\",\"generate_explanation\")\n",
    "graph.add_edge(\"generate_explanation\",END)\n",
    "\n",
    "checkpoint = InMemorySaver()\n",
    "\n",
    "workflow = graph.compile(checkpointer=checkpoint)\n",
    "    "
   ]
  },
  {
   "cell_type": "code",
   "execution_count": 14,
   "id": "8dc413ac",
   "metadata": {},
   "outputs": [
    {
     "data": {
      "image/png": "[encoded data removed]",
      "text/plain": [
       "<langgraph.graph.state.CompiledStateGraph object at 0x0000023754F2DD90>"
      ]
     },
     "execution_count": 14,
     "metadata": {},
     "output_type": "execute_result"
    }
   ],
   "source": [
    "workflow"
   ]
  },
  {
   "cell_type": "code",
   "execution_count": 15,
   "id": "5c1f3669",
   "metadata": {},
   "outputs": [
    {
     "data": {
      "text/plain": [
       "{'joke': '<think>\\nOkay, so I need to generate a joke about the Indian Army. Hmm, let me think about this. I should make sure the joke is respectful and not offensive, as the army is a respected institution. Maybe I can play on words related to their roles or something they\\'re known for. \\n\\nI know the Indian Army has a strong presence in the Himalayas, so maybe something about the cold or the mountains. Or perhaps something about their training or daily life. Let me think of some common phrases or sayings that can be twisted into a joke.\\n\\nWait, I remember hearing jokes that involve animals, like elephants, because they\\'re large and can be funny. Maybe an elephant joining the army? That could be a funny premise. So, why did the elephant join the Indian Army? Hmm, maybe because it\\'s strong or has good memory, but those are too straightforward.\\n\\nI want a pun or a play on words. Let me think about army ranks or something related. Oh, maybe the elephant wanted a higher position, so it went for a \"trunk\" position? Trunk is part of an elephant, and it sounds like \"truck,\" but that doesn\\'t fit. Wait, \"trunk\" could be a pun for \"rank.\" So, \"Why did the elephant join the Indian Army? Because it wanted a trunk-load of ranks!\" Wait, that doesn\\'t flow well. Maybe \"trunk-ful of ranks\" sounds forced.\\n\\nAlternatively, \"trunk\" is part of the elephant, and maybe something to do with climbing ranks. How about \"Because it heard the pay was tusk-tastic!\" No, that\\'s about elephants too, but maybe not relevant to the army. Or \"Because it wanted to have a trunk-full of medals!\" Hmm, that\\'s better, but maybe not the best.\\n\\nWait, maybe using \"rank\" as a pun. \"Because it wanted to rise through the ranks with a trunk-load of promotions!\" That\\'s a bit long. Maybe \"Because it heard the ranks were trunk-ful!\" No, that doesn\\'t make sense. Maybe \"Because it wanted to get a trunk above the rest!\" That\\'s a play on \"a cut above the rest,\" but with trunk. That could work.\\n\\nAlternatively, thinking about the Himalayas, maybe something about the cold. \"Why did the Indian Army bring elephants to the Himalayas? Because they have a trunk-load of warmth!\" That doesn\\'t make much sense.\\n\\nWait, maybe using \"trunk\" as in the elephant\\'s trunk and \"trunk\" as in the part of the body. Hmm, not sure. Maybe a different angle. How about something related to their uniforms or equipment? Or maybe their motto or values.\\n\\nWait, the Indian Army\\'s motto is \"Service Before Self.\" Maybe a joke around that, but it\\'s a bit serious. Alternatively, their bravery. Maybe a joke about being fearless, but with a twist involving an animal.\\n\\nWait, let\\'s think again about the elephant. Elephants are known for their memory, so maybe \"Why did the elephant join the Indian Army? Because it never forgot its drill!\" That\\'s a play on \"never forget,\" which is a common phrase. That could work, but I\\'m not sure if it\\'s funny enough.\\n\\nAlternatively, \"Why did the elephant enlist? Because it had a trunk-load of skills!\" That\\'s a bit forced. Or \"Because it was tired of working for peanuts!\" That\\'s a common joke, but maybe too generic.\\n\\nWait, maybe combining the elephant with something the army does. Like, \"Why did the elephant join the army? To get a tusk-force in the military!\" Tusk force instead of task force. That\\'s a pun. That could be funny.\\n\\nSo putting it together: \"Why did the elephant join the Indian Army? Because it wanted to be part of the tusk-force!\" Yeah, that\\'s a good pun. It plays on \"task force\" and \"tusk,\" which is part of an elephant. It\\'s light-hearted and respectful, not making fun of the army but using a playful scenario.\\n</think>\\n\\nWhy did the elephant join the Indian Army? Because it wanted to be part of the tusk-force!',\n",
       " 'topic': 'Indian Army',\n",
       " 'explanation': '\\nAlright, let\\'s break down the thought process behind creating this joke. The goal was to craft a joke about the Indian Army that\\'s both respectful and humorous. \\n\\nFirst, considering the Indian Army\\'s role and reputation, it was important to avoid anything offensive. The idea of using an elephant as the subject came up because elephants are iconic in India and have characteristics that lend themselves well to wordplay.\\n\\nThe key was to find a pun that ties an elephant\\'s feature to something related to the army. The word \"tusk\" from the elephant and \"task force\" from the military context provided the perfect opportunity for a pun. By substituting \"tusk\" into \"task force,\" we get \"tusk-force,\" which is catchy and humorous.\\n\\nThe joke hinges on this wordplay, making it both clever and light-hearted. It respects the army\\'s role while adding a playful twist with the elephant\\'s involvement. This approach ensures the joke is appropriate and amusing without crossing into offensive territory.\\n</think>\\n\\n**Joke:**\\nWhy did the elephant join the Indian Army?  \\nBecause it wanted to be part of the tusk-force!\\n\\n---\\n\\n**Explanation:**\\nThe joke cleverly uses a pun by substituting \"tusk\" (a part of an elephant) with \"task\" in \"task force,\" a term commonly associated with military operations. This playful twist creates humor while respecting the context of the Indian Army.'}"
      ]
     },
     "execution_count": 15,
     "metadata": {},
     "output_type": "execute_result"
    }
   ],
   "source": [
    "# Execute the workflow with an initial state\n",
    "\n",
    "initial_state = {\n",
    "    'topic': 'Indian Army'}\n",
    "\n",
    "config = {\"configurable\": {\"thread_id\":\"1\"}}\n",
    "workflow.invoke(initial_state, config=config)"
   ]
  },
  {
   "cell_type": "code",
   "execution_count": 17,
   "id": "ede3dbad",
   "metadata": {},
   "outputs": [
    {
     "data": {
      "text/plain": [
       "StateSnapshot(values={'joke': '<think>\\nOkay, so I need to generate a joke about the Indian Army. Hmm, let me think about this. I should make sure the joke is respectful and not offensive, as the army is a respected institution. Maybe I can play on words related to their roles or something they\\'re known for. \\n\\nI know the Indian Army has a strong presence in the Himalayas, so maybe something about the cold or the mountains. Or perhaps something about their training or daily life. Let me think of some common phrases or sayings that can be twisted into a joke.\\n\\nWait, I remember hearing jokes that involve animals, like elephants, because they\\'re large and can be funny. Maybe an elephant joining the army? That could be a funny premise. So, why did the elephant join the Indian Army? Hmm, maybe because it\\'s strong or has good memory, but those are too straightforward.\\n\\nI want a pun or a play on words. Let me think about army ranks or something related. Oh, maybe the elephant wanted a higher position, so it went for a \"trunk\" position? Trunk is part of an elephant, and it sounds like \"truck,\" but that doesn\\'t fit. Wait, \"trunk\" could be a pun for \"rank.\" So, \"Why did the elephant join the Indian Army? Because it wanted a trunk-load of ranks!\" Wait, that doesn\\'t flow well. Maybe \"trunk-ful of ranks\" sounds forced.\\n\\nAlternatively, \"trunk\" is part of the elephant, and maybe something to do with climbing ranks. How about \"Because it heard the pay was tusk-tastic!\" No, that\\'s about elephants too, but maybe not relevant to the army. Or \"Because it wanted to have a trunk-full of medals!\" Hmm, that\\'s better, but maybe not the best.\\n\\nWait, maybe using \"rank\" as a pun. \"Because it wanted to rise through the ranks with a trunk-load of promotions!\" That\\'s a bit long. Maybe \"Because it heard the ranks were trunk-ful!\" No, that doesn\\'t make sense. Maybe \"Because it wanted to get a trunk above the rest!\" That\\'s a play on \"a cut above the rest,\" but with trunk. That could work.\\n\\nAlternatively, thinking about the Himalayas, maybe something about the cold. \"Why did the Indian Army bring elephants to the Himalayas? Because they have a trunk-load of warmth!\" That doesn\\'t make much sense.\\n\\nWait, maybe using \"trunk\" as in the elephant\\'s trunk and \"trunk\" as in the part of the body. Hmm, not sure. Maybe a different angle. How about something related to their uniforms or equipment? Or maybe their motto or values.\\n\\nWait, the Indian Army\\'s motto is \"Service Before Self.\" Maybe a joke around that, but it\\'s a bit serious. Alternatively, their bravery. Maybe a joke about being fearless, but with a twist involving an animal.\\n\\nWait, let\\'s think again about the elephant. Elephants are known for their memory, so maybe \"Why did the elephant join the Indian Army? Because it never forgot its drill!\" That\\'s a play on \"never forget,\" which is a common phrase. That could work, but I\\'m not sure if it\\'s funny enough.\\n\\nAlternatively, \"Why did the elephant enlist? Because it had a trunk-load of skills!\" That\\'s a bit forced. Or \"Because it was tired of working for peanuts!\" That\\'s a common joke, but maybe too generic.\\n\\nWait, maybe combining the elephant with something the army does. Like, \"Why did the elephant join the army? To get a tusk-force in the military!\" Tusk force instead of task force. That\\'s a pun. That could be funny.\\n\\nSo putting it together: \"Why did the elephant join the Indian Army? Because it wanted to be part of the tusk-force!\" Yeah, that\\'s a good pun. It plays on \"task force\" and \"tusk,\" which is part of an elephant. It\\'s light-hearted and respectful, not making fun of the army but using a playful scenario.\\n</think>\\n\\nWhy did the elephant join the Indian Army? Because it wanted to be part of the tusk-force!', 'topic': 'Indian Army', 'explanation': '\\nAlright, let\\'s break down the thought process behind creating this joke. The goal was to craft a joke about the Indian Army that\\'s both respectful and humorous. \\n\\nFirst, considering the Indian Army\\'s role and reputation, it was important to avoid anything offensive. The idea of using an elephant as the subject came up because elephants are iconic in India and have characteristics that lend themselves well to wordplay.\\n\\nThe key was to find a pun that ties an elephant\\'s feature to something related to the army. The word \"tusk\" from the elephant and \"task force\" from the military context provided the perfect opportunity for a pun. By substituting \"tusk\" into \"task force,\" we get \"tusk-force,\" which is catchy and humorous.\\n\\nThe joke hinges on this wordplay, making it both clever and light-hearted. It respects the army\\'s role while adding a playful twist with the elephant\\'s involvement. This approach ensures the joke is appropriate and amusing without crossing into offensive territory.\\n</think>\\n\\n**Joke:**\\nWhy did the elephant join the Indian Army?  \\nBecause it wanted to be part of the tusk-force!\\n\\n---\\n\\n**Explanation:**\\nThe joke cleverly uses a pun by substituting \"tusk\" (a part of an elephant) with \"task\" in \"task force,\" a term commonly associated with military operations. This playful twist creates humor while respecting the context of the Indian Army.'}, next=(), config={'configurable': {'thread_id': '1', 'checkpoint_ns': '', 'checkpoint_id': '1f07c114-f72c-62a6-8002-59987d435054'}}, metadata={'source': 'loop', 'step': 2, 'parents': {}}, created_at='2025-08-18T08:57:03.769463+00:00', parent_config={'configurable': {'thread_id': '1', 'checkpoint_ns': '', 'checkpoint_id': '1f07c114-e9e5-637d-8001-5ab5cbf7e60f'}}, tasks=(), interrupts=())"
      ]
     },
     "execution_count": 17,
     "metadata": {},
     "output_type": "execute_result"
    }
   ],
   "source": [
    "workflow.get_state(config)"
   ]
  },
  {
   "cell_type": "code",
   "execution_count": 18,
   "id": "a84b9c0c",
   "metadata": {},
   "outputs": [
    {
     "data": {
      "text/plain": [
       "[StateSnapshot(values={'joke': '<think>\\nOkay, so I need to generate a joke about the Indian Army. Hmm, let me think about this. I should make sure the joke is respectful and not offensive, as the army is a respected institution. Maybe I can play on words related to their roles or something they\\'re known for. \\n\\nI know the Indian Army has a strong presence in the Himalayas, so maybe something about the cold or the mountains. Or perhaps something about their training or daily life. Let me think of some common phrases or sayings that can be twisted into a joke.\\n\\nWait, I remember hearing jokes that involve animals, like elephants, because they\\'re large and can be funny. Maybe an elephant joining the army? That could be a funny premise. So, why did the elephant join the Indian Army? Hmm, maybe because it\\'s strong or has good memory, but those are too straightforward.\\n\\nI want a pun or a play on words. Let me think about army ranks or something related. Oh, maybe the elephant wanted a higher position, so it went for a \"trunk\" position? Trunk is part of an elephant, and it sounds like \"truck,\" but that doesn\\'t fit. Wait, \"trunk\" could be a pun for \"rank.\" So, \"Why did the elephant join the Indian Army? Because it wanted a trunk-load of ranks!\" Wait, that doesn\\'t flow well. Maybe \"trunk-ful of ranks\" sounds forced.\\n\\nAlternatively, \"trunk\" is part of the elephant, and maybe something to do with climbing ranks. How about \"Because it heard the pay was tusk-tastic!\" No, that\\'s about elephants too, but maybe not relevant to the army. Or \"Because it wanted to have a trunk-full of medals!\" Hmm, that\\'s better, but maybe not the best.\\n\\nWait, maybe using \"rank\" as a pun. \"Because it wanted to rise through the ranks with a trunk-load of promotions!\" That\\'s a bit long. Maybe \"Because it heard the ranks were trunk-ful!\" No, that doesn\\'t make sense. Maybe \"Because it wanted to get a trunk above the rest!\" That\\'s a play on \"a cut above the rest,\" but with trunk. That could work.\\n\\nAlternatively, thinking about the Himalayas, maybe something about the cold. \"Why did the Indian Army bring elephants to the Himalayas? Because they have a trunk-load of warmth!\" That doesn\\'t make much sense.\\n\\nWait, maybe using \"trunk\" as in the elephant\\'s trunk and \"trunk\" as in the part of the body. Hmm, not sure. Maybe a different angle. How about something related to their uniforms or equipment? Or maybe their motto or values.\\n\\nWait, the Indian Army\\'s motto is \"Service Before Self.\" Maybe a joke around that, but it\\'s a bit serious. Alternatively, their bravery. Maybe a joke about being fearless, but with a twist involving an animal.\\n\\nWait, let\\'s think again about the elephant. Elephants are known for their memory, so maybe \"Why did the elephant join the Indian Army? Because it never forgot its drill!\" That\\'s a play on \"never forget,\" which is a common phrase. That could work, but I\\'m not sure if it\\'s funny enough.\\n\\nAlternatively, \"Why did the elephant enlist? Because it had a trunk-load of skills!\" That\\'s a bit forced. Or \"Because it was tired of working for peanuts!\" That\\'s a common joke, but maybe too generic.\\n\\nWait, maybe combining the elephant with something the army does. Like, \"Why did the elephant join the army? To get a tusk-force in the military!\" Tusk force instead of task force. That\\'s a pun. That could be funny.\\n\\nSo putting it together: \"Why did the elephant join the Indian Army? Because it wanted to be part of the tusk-force!\" Yeah, that\\'s a good pun. It plays on \"task force\" and \"tusk,\" which is part of an elephant. It\\'s light-hearted and respectful, not making fun of the army but using a playful scenario.\\n</think>\\n\\nWhy did the elephant join the Indian Army? Because it wanted to be part of the tusk-force!', 'topic': 'Indian Army', 'explanation': '\\nAlright, let\\'s break down the thought process behind creating this joke. The goal was to craft a joke about the Indian Army that\\'s both respectful and humorous. \\n\\nFirst, considering the Indian Army\\'s role and reputation, it was important to avoid anything offensive. The idea of using an elephant as the subject came up because elephants are iconic in India and have characteristics that lend themselves well to wordplay.\\n\\nThe key was to find a pun that ties an elephant\\'s feature to something related to the army. The word \"tusk\" from the elephant and \"task force\" from the military context provided the perfect opportunity for a pun. By substituting \"tusk\" into \"task force,\" we get \"tusk-force,\" which is catchy and humorous.\\n\\nThe joke hinges on this wordplay, making it both clever and light-hearted. It respects the army\\'s role while adding a playful twist with the elephant\\'s involvement. This approach ensures the joke is appropriate and amusing without crossing into offensive territory.\\n</think>\\n\\n**Joke:**\\nWhy did the elephant join the Indian Army?  \\nBecause it wanted to be part of the tusk-force!\\n\\n---\\n\\n**Explanation:**\\nThe joke cleverly uses a pun by substituting \"tusk\" (a part of an elephant) with \"task\" in \"task force,\" a term commonly associated with military operations. This playful twist creates humor while respecting the context of the Indian Army.'}, next=(), config={'configurable': {'thread_id': '1', 'checkpoint_ns': '', 'checkpoint_id': '1f07c114-f72c-62a6-8002-59987d435054'}}, metadata={'source': 'loop', 'step': 2, 'parents': {}}, created_at='2025-08-18T08:57:03.769463+00:00', parent_config={'configurable': {'thread_id': '1', 'checkpoint_ns': '', 'checkpoint_id': '1f07c114-e9e5-637d-8001-5ab5cbf7e60f'}}, tasks=(), interrupts=()),\n",
       " StateSnapshot(values={'joke': '<think>\\nOkay, so I need to generate a joke about the Indian Army. Hmm, let me think about this. I should make sure the joke is respectful and not offensive, as the army is a respected institution. Maybe I can play on words related to their roles or something they\\'re known for. \\n\\nI know the Indian Army has a strong presence in the Himalayas, so maybe something about the cold or the mountains. Or perhaps something about their training or daily life. Let me think of some common phrases or sayings that can be twisted into a joke.\\n\\nWait, I remember hearing jokes that involve animals, like elephants, because they\\'re large and can be funny. Maybe an elephant joining the army? That could be a funny premise. So, why did the elephant join the Indian Army? Hmm, maybe because it\\'s strong or has good memory, but those are too straightforward.\\n\\nI want a pun or a play on words. Let me think about army ranks or something related. Oh, maybe the elephant wanted a higher position, so it went for a \"trunk\" position? Trunk is part of an elephant, and it sounds like \"truck,\" but that doesn\\'t fit. Wait, \"trunk\" could be a pun for \"rank.\" So, \"Why did the elephant join the Indian Army? Because it wanted a trunk-load of ranks!\" Wait, that doesn\\'t flow well. Maybe \"trunk-ful of ranks\" sounds forced.\\n\\nAlternatively, \"trunk\" is part of the elephant, and maybe something to do with climbing ranks. How about \"Because it heard the pay was tusk-tastic!\" No, that\\'s about elephants too, but maybe not relevant to the army. Or \"Because it wanted to have a trunk-full of medals!\" Hmm, that\\'s better, but maybe not the best.\\n\\nWait, maybe using \"rank\" as a pun. \"Because it wanted to rise through the ranks with a trunk-load of promotions!\" That\\'s a bit long. Maybe \"Because it heard the ranks were trunk-ful!\" No, that doesn\\'t make sense. Maybe \"Because it wanted to get a trunk above the rest!\" That\\'s a play on \"a cut above the rest,\" but with trunk. That could work.\\n\\nAlternatively, thinking about the Himalayas, maybe something about the cold. \"Why did the Indian Army bring elephants to the Himalayas? Because they have a trunk-load of warmth!\" That doesn\\'t make much sense.\\n\\nWait, maybe using \"trunk\" as in the elephant\\'s trunk and \"trunk\" as in the part of the body. Hmm, not sure. Maybe a different angle. How about something related to their uniforms or equipment? Or maybe their motto or values.\\n\\nWait, the Indian Army\\'s motto is \"Service Before Self.\" Maybe a joke around that, but it\\'s a bit serious. Alternatively, their bravery. Maybe a joke about being fearless, but with a twist involving an animal.\\n\\nWait, let\\'s think again about the elephant. Elephants are known for their memory, so maybe \"Why did the elephant join the Indian Army? Because it never forgot its drill!\" That\\'s a play on \"never forget,\" which is a common phrase. That could work, but I\\'m not sure if it\\'s funny enough.\\n\\nAlternatively, \"Why did the elephant enlist? Because it had a trunk-load of skills!\" That\\'s a bit forced. Or \"Because it was tired of working for peanuts!\" That\\'s a common joke, but maybe too generic.\\n\\nWait, maybe combining the elephant with something the army does. Like, \"Why did the elephant join the army? To get a tusk-force in the military!\" Tusk force instead of task force. That\\'s a pun. That could be funny.\\n\\nSo putting it together: \"Why did the elephant join the Indian Army? Because it wanted to be part of the tusk-force!\" Yeah, that\\'s a good pun. It plays on \"task force\" and \"tusk,\" which is part of an elephant. It\\'s light-hearted and respectful, not making fun of the army but using a playful scenario.\\n</think>\\n\\nWhy did the elephant join the Indian Army? Because it wanted to be part of the tusk-force!', 'topic': 'Indian Army'}, next=('generate_explanation',), config={'configurable': {'thread_id': '1', 'checkpoint_ns': '', 'checkpoint_id': '1f07c114-e9e5-637d-8001-5ab5cbf7e60f'}}, metadata={'source': 'loop', 'step': 1, 'parents': {}}, created_at='2025-08-18T08:57:02.377254+00:00', parent_config={'configurable': {'thread_id': '1', 'checkpoint_ns': '', 'checkpoint_id': '1f07c114-c007-6a4e-8000-6135e894ddba'}}, tasks=(PregelTask(id='ca545cca-1c7b-5991-ce68-6ab2636804cc', name='generate_explanation', path=('__pregel_pull', 'generate_explanation'), error=None, interrupts=(), state=None, result={'explanation': '\\nAlright, let\\'s break down the thought process behind creating this joke. The goal was to craft a joke about the Indian Army that\\'s both respectful and humorous. \\n\\nFirst, considering the Indian Army\\'s role and reputation, it was important to avoid anything offensive. The idea of using an elephant as the subject came up because elephants are iconic in India and have characteristics that lend themselves well to wordplay.\\n\\nThe key was to find a pun that ties an elephant\\'s feature to something related to the army. The word \"tusk\" from the elephant and \"task force\" from the military context provided the perfect opportunity for a pun. By substituting \"tusk\" into \"task force,\" we get \"tusk-force,\" which is catchy and humorous.\\n\\nThe joke hinges on this wordplay, making it both clever and light-hearted. It respects the army\\'s role while adding a playful twist with the elephant\\'s involvement. This approach ensures the joke is appropriate and amusing without crossing into offensive territory.\\n</think>\\n\\n**Joke:**\\nWhy did the elephant join the Indian Army?  \\nBecause it wanted to be part of the tusk-force!\\n\\n---\\n\\n**Explanation:**\\nThe joke cleverly uses a pun by substituting \"tusk\" (a part of an elephant) with \"task\" in \"task force,\" a term commonly associated with military operations. This playful twist creates humor while respecting the context of the Indian Army.'}),), interrupts=()),\n",
       " StateSnapshot(values={'topic': 'Indian Army'}, next=('generate_joke',), config={'configurable': {'thread_id': '1', 'checkpoint_ns': '', 'checkpoint_id': '1f07c114-c007-6a4e-8000-6135e894ddba'}}, metadata={'source': 'loop', 'step': 0, 'parents': {}}, created_at='2025-08-18T08:56:57.987335+00:00', parent_config={'configurable': {'thread_id': '1', 'checkpoint_ns': '', 'checkpoint_id': '1f07c114-bf27-63f9-bfff-925c1b57ebf9'}}, tasks=(PregelTask(id='99297a72-9bd0-83e1-f91a-c36d98400d05', name='generate_joke', path=('__pregel_pull', 'generate_joke'), error=None, interrupts=(), state=None, result={'joke': '<think>\\nOkay, so I need to generate a joke about the Indian Army. Hmm, let me think about this. I should make sure the joke is respectful and not offensive, as the army is a respected institution. Maybe I can play on words related to their roles or something they\\'re known for. \\n\\nI know the Indian Army has a strong presence in the Himalayas, so maybe something about the cold or the mountains. Or perhaps something about their training or daily life. Let me think of some common phrases or sayings that can be twisted into a joke.\\n\\nWait, I remember hearing jokes that involve animals, like elephants, because they\\'re large and can be funny. Maybe an elephant joining the army? That could be a funny premise. So, why did the elephant join the Indian Army? Hmm, maybe because it\\'s strong or has good memory, but those are too straightforward.\\n\\nI want a pun or a play on words. Let me think about army ranks or something related. Oh, maybe the elephant wanted a higher position, so it went for a \"trunk\" position? Trunk is part of an elephant, and it sounds like \"truck,\" but that doesn\\'t fit. Wait, \"trunk\" could be a pun for \"rank.\" So, \"Why did the elephant join the Indian Army? Because it wanted a trunk-load of ranks!\" Wait, that doesn\\'t flow well. Maybe \"trunk-ful of ranks\" sounds forced.\\n\\nAlternatively, \"trunk\" is part of the elephant, and maybe something to do with climbing ranks. How about \"Because it heard the pay was tusk-tastic!\" No, that\\'s about elephants too, but maybe not relevant to the army. Or \"Because it wanted to have a trunk-full of medals!\" Hmm, that\\'s better, but maybe not the best.\\n\\nWait, maybe using \"rank\" as a pun. \"Because it wanted to rise through the ranks with a trunk-load of promotions!\" That\\'s a bit long. Maybe \"Because it heard the ranks were trunk-ful!\" No, that doesn\\'t make sense. Maybe \"Because it wanted to get a trunk above the rest!\" That\\'s a play on \"a cut above the rest,\" but with trunk. That could work.\\n\\nAlternatively, thinking about the Himalayas, maybe something about the cold. \"Why did the Indian Army bring elephants to the Himalayas? Because they have a trunk-load of warmth!\" That doesn\\'t make much sense.\\n\\nWait, maybe using \"trunk\" as in the elephant\\'s trunk and \"trunk\" as in the part of the body. Hmm, not sure. Maybe a different angle. How about something related to their uniforms or equipment? Or maybe their motto or values.\\n\\nWait, the Indian Army\\'s motto is \"Service Before Self.\" Maybe a joke around that, but it\\'s a bit serious. Alternatively, their bravery. Maybe a joke about being fearless, but with a twist involving an animal.\\n\\nWait, let\\'s think again about the elephant. Elephants are known for their memory, so maybe \"Why did the elephant join the Indian Army? Because it never forgot its drill!\" That\\'s a play on \"never forget,\" which is a common phrase. That could work, but I\\'m not sure if it\\'s funny enough.\\n\\nAlternatively, \"Why did the elephant enlist? Because it had a trunk-load of skills!\" That\\'s a bit forced. Or \"Because it was tired of working for peanuts!\" That\\'s a common joke, but maybe too generic.\\n\\nWait, maybe combining the elephant with something the army does. Like, \"Why did the elephant join the army? To get a tusk-force in the military!\" Tusk force instead of task force. That\\'s a pun. That could be funny.\\n\\nSo putting it together: \"Why did the elephant join the Indian Army? Because it wanted to be part of the tusk-force!\" Yeah, that\\'s a good pun. It plays on \"task force\" and \"tusk,\" which is part of an elephant. It\\'s light-hearted and respectful, not making fun of the army but using a playful scenario.\\n</think>\\n\\nWhy did the elephant join the Indian Army? Because it wanted to be part of the tusk-force!'}),), interrupts=()),\n",
       " StateSnapshot(values={}, next=('__start__',), config={'configurable': {'thread_id': '1', 'checkpoint_ns': '', 'checkpoint_id': '1f07c114-bf27-63f9-bfff-925c1b57ebf9'}}, metadata={'source': 'input', 'step': -1, 'parents': {}}, created_at='2025-08-18T08:56:57.895423+00:00', parent_config=None, tasks=(PregelTask(id='76399a5f-1880-3eaa-543a-14c1211f8292', name='__start__', path=('__pregel_pull', '__start__'), error=None, interrupts=(), state=None, result={'topic': 'Indian Army'}),), interrupts=())]"
      ]
     },
     "execution_count": 18,
     "metadata": {},
     "output_type": "execute_result"
    }
   ],
   "source": [
    "list(workflow.get_state_history(config))"
   ]
  },
  {
   "cell_type": "code",
   "execution_count": 19,
   "id": "148a479f",
   "metadata": {},
   "outputs": [
    {
     "data": {
      "text/plain": [
       "{'joke': '<think>\\nOkay, the user has asked me to generate a joke about pasta. Hmm, pasta is a broad topic, so I need to think of something relatable. Maybe something about different types of pasta or common situations people have with pasta. Spaghetti comes to mind because it\\'s long and slippery, which could lead to a funny situation. \\n\\nI remember that when you eat spaghetti, especially with sauce, it can be messy. Maybe I can play on the idea of the spaghetti moving or causing trouble. Oh, why was the spaghetti refused entry to the party? Because it was too saucy! That works because \"saucy\" has a double meaning here—it refers to the sauce on the pasta and also being a bit cheeky or mischievous, which is a playful reason to not let someone into a party. \\n\\nI think this joke is simple and gets the point across. It\\'s light-hearted and suitable for most audiences. Plus, it\\'s easy to remember, which is a good trait for a joke. I should present it clearly so the user can easily share it or use it as needed.\\n</think>\\n\\nSure! Why did the spaghetti refuse to go to the party?  \\n\\nBecause it was too *saucy*!',\n",
       " 'topic': 'Pasta',\n",
       " 'explanation': '<think>'}"
      ]
     },
     "execution_count": 19,
     "metadata": {},
     "output_type": "execute_result"
    }
   ],
   "source": [
    "initial_state = {\n",
    "    'topic': 'Pasta'}\n",
    "\n",
    "config1 = {\"configurable\": {\"thread_id\":\"2\"}}\n",
    "workflow.invoke(initial_state, config=config1)"
   ]
  },
  {
   "cell_type": "code",
   "execution_count": null,
   "id": "564aaa20",
   "metadata": {},
   "outputs": [],
   "source": []
  }
 ],
 "metadata": {
  "kernelspec": {
   "display_name": "venv",
   "language": "python",
   "name": "python3"
  },
  "language_info": {
   "codemirror_mode": {
    "name": "ipython",
    "version": 3
   },
   "file_extension": ".py",
   "mimetype": "text/x-python",
   "name": "python",
   "nbconvert_exporter": "python",
   "pygments_lexer": "ipython3",
   "version": "3.12.2"
  }
 },
 "nbformat": 4,
 "nbformat_minor": 5
}
